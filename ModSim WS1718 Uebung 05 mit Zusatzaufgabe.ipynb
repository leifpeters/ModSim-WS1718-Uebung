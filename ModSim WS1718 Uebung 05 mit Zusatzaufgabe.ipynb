{
 "cells": [
  {
   "cell_type": "markdown",
   "metadata": {
    "collapsed": true
   },
   "source": [
    "## Simulation und Modellierung WS16/17 - Uebung 05"
   ]
  },
  {
   "cell_type": "markdown",
   "metadata": {},
   "source": [
    "### Aufgabe 1 : verallgemeinerte Fibonacci Zahlen"
   ]
  },
  {
   "cell_type": "markdown",
   "metadata": {},
   "source": [
    "Schreiben Sie eine Funktion `AllgFib(F0=1,F1=1,a=1,b=1,N=3)`, welche die ersten `N` Folgeglieder der verallgemeinerten Fibonaccifolge\n",
    "\n",
    "$$\n",
    "    F_{n+1} = a F_n + b F_{n-1}\n",
    "$$\n",
    "\n",
    "mit den Anfangsbedingungen $F_0=$ `F0` und $F_1=$ `F1` berechnet und als Liste ausgibt. (Achtung : Die Definition in der Vorlesung war etwas anders)\n",
    "\n",
    "Schreiben Sie eine Funktion `my_sqrt(x)`, welche mit Hilfe der verallgemeinerten Fibonacci Zahlen die Wurzel aus `x` bis auf Maschinengenauigkeit ausrechnet. Berechnen Sie $\\sqrt{2}$ mit dieser Funktion. \n",
    "\n",
    "*Hinweis :* Iterieren Sie die Fibonacci Folge schrittweise bis sich das Verhaeltnis aufeinanderfolgender Zahlen nicht mehr aendert."
   ]
  },
  {
   "cell_type": "code",
   "execution_count": 51,
   "metadata": {
    "collapsed": false
   },
   "outputs": [
    {
     "name": "stdout",
     "output_type": "stream",
     "text": [
      "[1, 1, 2, 3, 5, 8, 13, 21, 34, 55, 89, 144]\n"
     ]
    }
   ],
   "source": [
    "# Zu wenig Dokumentierung des Codes -10\n",
    "\n",
    "def AllgFib(F0=1,F1=1,a=1,b=1,N=3):\n",
    "    f_n = F1                              #Die Anfangszahlen werden der allgemeinen Formel zugeordnet\n",
    "    f_nme = F0\n",
    "    L=[F0,F1] \n",
    "    for x in range (N):\n",
    "        f_npe = a*f_n+b*f_nme\n",
    "        L.append(f_npe)                   #Der Liste werden die neuen Elemente hinzugefügt      \n",
    "        f_nme=f_n    \n",
    "        f_n=f_npe\n",
    "    print(L)\n",
    "AllgFib(N=10) ###### hier wird aber die erste 12 Zahlen zurueckgegeben? -2"
   ]
  },
  {
   "cell_type": "code",
   "execution_count": 48,
   "metadata": {
    "collapsed": false
   },
   "outputs": [
    {
     "name": "stdout",
     "output_type": "stream",
     "text": [
      "1.414213562373095\n"
     ]
    }
   ],
   "source": [
    "def AllgFib(F0=1,F1=1,a=1,b=1,N=3):\n",
    "    f_n = F1\n",
    "    f_nme = F0\n",
    "    c=0\n",
    "    while 1:\n",
    "        f_npe = a*f_n+b*f_nme        \n",
    "        f_nme=f_n\n",
    "        f_n=f_npe\n",
    "        if c==f_n/f_nme: #Der Grenzwert wird ausgegeben, wenn er durch die nicht weitere Genauigkeit der gleiche wir zuvor ist\n",
    "            return f_n/f_nme\n",
    "            break\n",
    "        c=f_n/f_nme\n",
    "    \n",
    "        \n",
    "my_sqrt = lambda x : AllgFib(1,1,2,x-1,10)-1 ########### wird Maschinengenauigkeit ueberhaupt mit N = 10 erreicht? -10\n",
    "        \n",
    "print(my_sqrt(2))"
   ]
  },
  {
   "cell_type": "markdown",
   "metadata": {},
   "source": [
    "### Aufgabe 2 : Collatz-Problem"
   ]
  },
  {
   "cell_type": "markdown",
   "metadata": {},
   "source": [
    "Wir betrachten die folgende Abbildung ueber den *positiven* natuerlichen Zahlen\n",
    "\n",
    "$$\n",
    "    f(n) = \\left\\lbrace \\begin{array}{ll}\n",
    "                            {}n/2 \\qquad &,\\textrm{falls }n\\textrm{ gerade} \\\\\n",
    "                            3n+1\\qquad &,\\textrm{falls }n\\textrm{ ungerade}\n",
    "                        \\end{array}\n",
    "           \\right.\n",
    "$$\n",
    "\n",
    "sowie die natuerliche Zahl $\\tau(n)$ welche angibt, wie of $f$ iteriert werden muss, bis man die Zahl 1 erreicht, d.h.\n",
    "\n",
    "$$\n",
    "    \\left(f\\circ\\right)^{\\tau(n)}(n) = 1\n",
    "$$"
   ]
  },
  {
   "cell_type": "markdown",
   "metadata": {},
   "source": [
    "Schreiben Sie eine Funktion `tau(n)`, welche diese Zahl berechnet. Berechnen Sie eine Liste `L` der Werte $\\tau(n)$ fuer die ersten `2**20` positiven natuerlichen Zahlen und plotten diese mit\n",
    "\n",
    "```python\n",
    "    from pylab import *\n",
    "    plot(L,'.') # nur Punkte setzen, ohne diese zu verbinden\n",
    "    show()\n",
    "```"
   ]
  },
  {
   "cell_type": "markdown",
   "metadata": {},
   "source": [
    "<a href=\"https://en.wikipedia.org/wiki/Collatz_conjecture\">Collatz-Problem @ Wikipedia</a><br>\n",
    "Collatz-Problem @ xkcd : <img src=\"http://imgs.xkcd.com/comics/collatz_conjecture.png\">"
   ]
  },
  {
   "cell_type": "code",
   "execution_count": 61,
   "metadata": {
    "collapsed": false
   },
   "outputs": [
    {
     "name": "stdout",
     "output_type": "stream",
     "text": [
      "6.0\n",
      "3.0\n",
      "10.0\n",
      "5.0\n",
      "16.0\n",
      "8.0\n",
      "4.0\n",
      "2.0\n",
      "9\n"
     ]
    }
   ],
   "source": [
    "n=12\n",
    "x=0\n",
    "while 1:\n",
    "    if n%2==0:\n",
    "        n=n/2\n",
    "        x+=1\n",
    "    else:\n",
    "        n=3*n+1\n",
    "        x+=1\n",
    "    if n==1:\n",
    "        break\n",
    "    print(n)\n",
    "print(x)"
   ]
  },
  {
   "cell_type": "code",
   "execution_count": 46,
   "metadata": {
    "collapsed": false
   },
   "outputs": [
    {
     "name": "stderr",
     "output_type": "stream",
     "text": [
      "IOPub data rate exceeded.\n",
      "The notebook server will temporarily stop sending output\n",
      "to the client in order to avoid crashing it.\n",
      "To change this limit, set the config variable\n",
      "`--NotebookApp.iopub_data_rate_limit`.\n"
     ]
    },
    {
     "data": {
      "image/png": "[encoded data removed]",
      "text/plain": [
       "<matplotlib.figure.Figure at 0x2231ff21908>"
      ]
     },
     "metadata": {},
     "output_type": "display_data"
    }
   ],
   "source": [
    "from pylab import *  \n",
    "def tau(n):\n",
    "  \n",
    "    x=0\n",
    "    while 1:\n",
    "        if n==1:         #Die Abbbruchbedingung tritt dann ein, wenn der Wert 1 erreicht ist.\n",
    "            break\n",
    "        if n%2==0:       #Wenn n gerde ist, wird die Zahl halbiert\n",
    "            n=n/2\n",
    "            x+=1         #Die Zählvaiable zeigt die Anzahl der Iterierungsvorgänge \n",
    "        else:            #Wenn n ungerade ist geschieht die folgende Rechenoperation\n",
    "            n=3*n+1\n",
    "            x+=1\n",
    "        \n",
    "    return x\n",
    "L=list()\n",
    "for i in range(1,2**20):   # range( 1, 2**20 +1) -2\n",
    "    L.append(tau(i))\n",
    "print (L)\n",
    "\n",
    "plot(L,'.')\n",
    "show()"
   ]
  },
  {
   "cell_type": "markdown",
   "metadata": {},
   "source": [
    "### Zusatzaufgabe (+10%):"
   ]
  },
  {
   "cell_type": "markdown",
   "metadata": {},
   "source": [
    "- Wie lautet die Taylorentwicklung von $f(x) = \\sqrt{1+x}$ ?\n",
    "- Schreiben Sie eine Funktion `sqrt1px(x,eps=0)`, welche die Taylorreihe bis auf eine gegebene Genauigkeit $\\varepsilon$, bzw. bis zur Konvergenz $\\varepsilon=0$ berechnet.\n",
    "- berechnen Sie $\\sqrt{2}$ als `sqrt1px(1.0)` bzw. `1.0/sqrt1px(-0.5)`."
   ]
  },
  {
   "cell_type": "code",
   "execution_count": null,
   "metadata": {
    "collapsed": true
   },
   "outputs": [],
   "source": []
  },
  {
   "cell_type": "code",
   "execution_count": null,
   "metadata": {
    "collapsed": true
   },
   "outputs": [],
   "source": []
  }
 ],
 "metadata": {
  "kernelspec": {
   "display_name": "Python [default]",
   "language": "python",
   "name": "python3"
  },
  "language_info": {
   "codemirror_mode": {
    "name": "ipython",
    "version": 3
   },
   "file_extension": ".py",
   "mimetype": "text/x-python",
   "name": "python",
   "nbconvert_exporter": "python",
   "pygments_lexer": "ipython3",
   "version": "3.5.2"
  }
 },
 "nbformat": 4,
 "nbformat_minor": 1
}
